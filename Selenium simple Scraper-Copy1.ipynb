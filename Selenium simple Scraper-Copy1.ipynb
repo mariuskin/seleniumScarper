{
 "cells": [
  {
   "cell_type": "code",
   "execution_count": null,
   "metadata": {},
   "outputs": [],
   "source": [
    "! pip install selenium\n",
    "\n"
   ]
  },
  {
   "cell_type": "code",
   "execution_count": 79,
   "metadata": {},
   "outputs": [
    {
     "name": "stdout",
     "output_type": "stream",
     "text": [
      "/home/dev/gitProjects/Untitled Folder\r\n"
     ]
    }
   ],
   "source": [
    "! pwd"
   ]
  },
  {
   "cell_type": "code",
   "execution_count": 6,
   "metadata": {},
   "outputs": [
    {
     "name": "stdout",
     "output_type": "stream",
     "text": [
      "Starting to scrape chapter 2775\n",
      "Managed to scrape the content of the chapter 2775\n",
      "Wrinting in the file....\n",
      "Moving onto next chapter\n",
      "\n",
      "\n",
      "Starting to scrape chapter 2776\n",
      "Managed to scrape the content of the chapter 2776\n",
      "Wrinting in the file....\n",
      "Moving onto next chapter\n",
      "\n",
      "\n",
      "Starting to scrape chapter 2777\n",
      "Managed to scrape the content of the chapter 2777\n",
      "Wrinting in the file....\n",
      "Moving onto next chapter\n",
      "\n",
      "\n",
      "Starting to scrape chapter 2778\n",
      "Managed to scrape the content of the chapter 2778\n",
      "Wrinting in the file....\n",
      "Moving onto next chapter\n",
      "\n",
      "\n",
      "Starting to scrape chapter 2779\n",
      "Managed to scrape the content of the chapter 2779\n",
      "Wrinting in the file....\n",
      "Moving onto next chapter\n",
      "\n",
      "\n",
      "Starting to scrape chapter 2780\n",
      "Managed to scrape the content of the chapter 2780\n",
      "Wrinting in the file....\n",
      "Moving onto next chapter\n",
      "\n",
      "\n",
      "Starting to scrape chapter 2781\n",
      "Managed to scrape the content of the chapter 2781\n",
      "Wrinting in the file....\n",
      "Moving onto next chapter\n",
      "\n",
      "\n",
      "Starting to scrape chapter 2782\n",
      "Managed to scrape the content of the chapter 2782\n",
      "Wrinting in the file....\n",
      "Moving onto next chapter\n",
      "\n",
      "\n",
      "Starting to scrape chapter 2783\n",
      "Managed to scrape the content of the chapter 2783\n",
      "Wrinting in the file....\n",
      "Moving onto next chapter\n",
      "\n",
      "\n",
      "Starting to scrape chapter 2784\n",
      "Managed to scrape the content of the chapter 2784\n",
      "Wrinting in the file....\n",
      "Moving onto next chapter\n",
      "\n",
      "\n",
      "End of task\n"
     ]
    }
   ],
   "source": [
    "from selenium import webdriver\n",
    "from selenium.webdriver.chrome.options import Options\n",
    "import time\n",
    "from selenium.webdriver.common.keys import Keys\n",
    "from selenium.webdriver.common.by import By\n",
    "from selenium.webdriver.support.ui import WebDriverWait\n",
    "from selenium.webdriver.support import expected_conditions as EC\n",
    "\n",
    "\n",
    "\n",
    "def start_scraper_for_novel(beging, end, starting_url):\n",
    "    \n",
    "    options = Options()\n",
    "    options.headless = True\n",
    "    options.add_argument(\"--window-size=1920,1200\")\n",
    "\n",
    "    DRIVER_PATH = \"/home/dev/Downloads/chromedriver\"\n",
    "    driver = webdriver.Chrome(executable_path=DRIVER_PATH)\n",
    "    driver.get(starting_url)\n",
    "    \n",
    "    for x in range(beging, end):\n",
    "        with open(f\"dragon-marked-war-god-{beging}-{end}.txt\", \"a\") as myfile:             \n",
    "            try:\n",
    "                print(f\"Starting to scrape chapter {x}\")\n",
    "                content = WebDriverWait(driver, 10).until(\n",
    "                EC.presence_of_element_located((By.ID, \"chapter-content\"))\n",
    "                ).text\n",
    "\n",
    "                print(f\"Managed to scrape the content of the chapter {x}\")\n",
    "                print(f\"Wrinting in the file....\")\n",
    "\n",
    "                myfile.write(content)\n",
    "\n",
    "                myfile.write(\"\\n\\n\\n\")\n",
    "                myfile.write(f\"End of {x} chapter\")\n",
    "                myfile.write(\"\\n\\n\\n\")\n",
    "                myfile.write(f\"New Chapter Begins: {x + 1}\")\n",
    "                myfile.write(\"\\n\\n\\n\")\n",
    "\n",
    "                driver.find_element_by_id(\"next_chap\").send_keys(Keys.RETURN)\n",
    "                print(f\"Moving onto next chapter\\n\\n\")\n",
    "\n",
    "\n",
    "            except:\n",
    "                print(f\"stopped on chapter {x}, can't load page with url: {driver.current_url}\")\n",
    "                driver.quit()\n",
    "                break\n",
    "\n",
    "    print(\"End of task\")\n",
    "    driver.quit()\n",
    "    \n",
    "    \n",
    "start_scraper_for_novel(2775, 2785, \"https://novelfull.com/dragon-marked-war-god/chapter-2775-everything-is-bonded-with-love.html\")"
   ]
  }
 ],
 "metadata": {
  "kernelspec": {
   "display_name": "Python 3",
   "language": "python",
   "name": "python3"
  },
  "language_info": {
   "codemirror_mode": {
    "name": "ipython",
    "version": 3
   },
   "file_extension": ".py",
   "mimetype": "text/x-python",
   "name": "python",
   "nbconvert_exporter": "python",
   "pygments_lexer": "ipython3",
   "version": "3.8.5"
  }
 },
 "nbformat": 4,
 "nbformat_minor": 4
}
